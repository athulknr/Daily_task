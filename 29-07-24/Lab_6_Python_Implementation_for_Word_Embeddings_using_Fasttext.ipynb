{
  "cells": [
    {
      "cell_type": "markdown",
      "metadata": {
        "id": "iO5kp-YQJbYg"
      },
      "source": [
        "### Lab 6 : Python Implementation of Word Embeddings using Fasttext"
      ]
    },
    {
      "cell_type": "markdown",
      "metadata": {
        "id": "VC5QUxYZJbYk"
      },
      "source": [
        "The gensim library needs scipy 1.12.0 so first you need to install this using the following command\n",
        "\n",
        "`pip install scipy==1.12`\n",
        "\n",
        "`pip install gensim`"
      ]
    },
    {
      "cell_type": "code",
      "execution_count": 1,
      "metadata": {
        "colab": {
          "base_uri": "https://localhost:8080/"
        },
        "id": "JaoRJb9tJbYl",
        "outputId": "1e51d712-1e13-450c-d5c8-05525792a9ca"
      },
      "outputs": [
        {
          "output_type": "stream",
          "name": "stderr",
          "text": [
            "[nltk_data] Downloading package punkt to /root/nltk_data...\n",
            "[nltk_data]   Unzipping tokenizers/punkt.zip.\n"
          ]
        },
        {
          "output_type": "execute_result",
          "data": {
            "text/plain": [
              "True"
            ]
          },
          "metadata": {},
          "execution_count": 1
        }
      ],
      "source": [
        "# Import necessary libarries\n",
        "from gensim.models import FastText\n",
        "from nltk.tokenize import word_tokenize\n",
        "from nltk import download\n",
        "# Download required NLTK data\n",
        "download('punkt')\n"
      ]
    },
    {
      "cell_type": "code",
      "execution_count": 2,
      "metadata": {
        "colab": {
          "base_uri": "https://localhost:8080/"
        },
        "id": "btSBIrjJJbYn",
        "outputId": "a26eecea-a71b-4d0d-b218-2ba7b326bb83"
      },
      "outputs": [
        {
          "output_type": "stream",
          "name": "stdout",
          "text": [
            "Word Vector for 'language': [-0.00461428  0.01921903 -0.00035116 -0.00750383 -0.02619313]\n",
            "Word Vector for 'NLPfun': [ 0.01152632  0.00589536 -0.01608402 -0.00613909  0.00409522]\n"
          ]
        }
      ],
      "source": [
        "\n",
        "# Example sentences\n",
        "sentences = [\n",
        "    \"Natural Language Processing is fun.\",\n",
        "    \"Language models are improving every day.\"\n",
        "]\n",
        "\n",
        "# Tokenize sentences\n",
        "tokenized_sentences = [word_tokenize(sentence.lower()) for sentence in sentences]\n",
        "\n",
        "# Train the FastText model\n",
        "model = FastText(sentences=tokenized_sentences, vector_size=5, window=5, min_count=1, workers=4, sg=1)\n",
        "\n",
        "# Get word vectors\n",
        "word_vectors = model.wv\n",
        "print(\"Word Vector for 'language':\", word_vectors['language'])\n",
        "\n",
        "# Get vector for an OOV word\n",
        "print(\"Word Vector for 'NLPfun':\", word_vectors['nlpfun'])\n"
      ]
    },
    {
      "cell_type": "code",
      "execution_count": null,
      "metadata": {
        "id": "b4pEZQcXJbYo"
      },
      "outputs": [],
      "source": []
    }
  ],
  "metadata": {
    "kernelspec": {
      "display_name": "dataScience",
      "language": "python",
      "name": "python3"
    },
    "language_info": {
      "codemirror_mode": {
        "name": "ipython",
        "version": 3
      },
      "file_extension": ".py",
      "mimetype": "text/x-python",
      "name": "python",
      "nbconvert_exporter": "python",
      "pygments_lexer": "ipython3",
      "version": "3.11.9"
    },
    "colab": {
      "provenance": []
    }
  },
  "nbformat": 4,
  "nbformat_minor": 0
}