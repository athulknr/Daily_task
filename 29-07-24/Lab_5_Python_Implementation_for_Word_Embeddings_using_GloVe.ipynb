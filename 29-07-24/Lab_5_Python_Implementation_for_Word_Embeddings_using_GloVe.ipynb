{
  "cells": [
    {
      "cell_type": "markdown",
      "metadata": {
        "id": "In0nacyMGq5G"
      },
      "source": [
        "### Lab 5 : Python Implementation of Word Embeddings using GloVe"
      ]
    },
    {
      "cell_type": "markdown",
      "metadata": {
        "id": "xy5oV-MZGq5I"
      },
      "source": [
        "The gensim library needs scipy 1.12.0 so first you need to install this using the following command\n",
        "\n",
        "`pip install scipy==1.12`\n",
        "\n",
        "`pip install gensim`"
      ]
    },
    {
      "cell_type": "code",
      "execution_count": 1,
      "metadata": {
        "id": "Aq_DynnJGq5J"
      },
      "outputs": [],
      "source": [
        "import gensim.downloader as api"
      ]
    },
    {
      "cell_type": "code",
      "execution_count": 2,
      "metadata": {
        "colab": {
          "base_uri": "https://localhost:8080/"
        },
        "id": "0ayl4i4UGq5K",
        "outputId": "6ac7cee0-f156-4c9f-9158-f7adcff01645"
      },
      "outputs": [
        {
          "output_type": "stream",
          "name": "stdout",
          "text": [
            "[==================================================] 100.0% 66.0/66.0MB downloaded\n",
            "Dimensions of 50d GloVe vector: 50\n"
          ]
        }
      ],
      "source": [
        "# Load the pre-trained GloVe model with 50 dimensions\n",
        "glove_vectors_50d = api.load(\"glove-wiki-gigaword-50\")\n",
        "print(\"Dimensions of 50d GloVe vector:\", len(glove_vectors_50d['language']))"
      ]
    },
    {
      "cell_type": "code",
      "execution_count": 3,
      "metadata": {
        "colab": {
          "base_uri": "https://localhost:8080/"
        },
        "id": "RXWif_1zGq5L",
        "outputId": "3b28dcdb-0ef0-4300-8c5b-f32ba8178b94"
      },
      "outputs": [
        {
          "output_type": "stream",
          "name": "stdout",
          "text": [
            "[==================================================] 100.0% 128.1/128.1MB downloaded\n",
            "Dimensions of 100d GloVe vector: 100\n"
          ]
        }
      ],
      "source": [
        "# Load the pre-trained GloVe model with 100 dimensions\n",
        "glove_vectors_100d = api.load(\"glove-wiki-gigaword-100\")\n",
        "print(\"Dimensions of 100d GloVe vector:\", len(glove_vectors_100d['language']))"
      ]
    },
    {
      "cell_type": "code",
      "execution_count": 4,
      "metadata": {
        "colab": {
          "base_uri": "https://localhost:8080/"
        },
        "id": "wWCwNc7SGq5L",
        "outputId": "f4f2ada0-5b43-44de-8087-4e9af4821307"
      },
      "outputs": [
        {
          "output_type": "stream",
          "name": "stdout",
          "text": [
            "[==================================================] 100.0% 252.1/252.1MB downloaded\n",
            "Dimensions of 200d GloVe vector: 200\n"
          ]
        }
      ],
      "source": [
        "# Load the pre-trained GloVe model with 200 dimensions\n",
        "glove_vectors_200d = api.load(\"glove-wiki-gigaword-200\")\n",
        "print(\"Dimensions of 200d GloVe vector:\", len(glove_vectors_200d['language']))"
      ]
    },
    {
      "cell_type": "code",
      "execution_count": 6,
      "metadata": {
        "colab": {
          "base_uri": "https://localhost:8080/"
        },
        "id": "Fo-f6JO2Gq5L",
        "outputId": "b89e94f1-4659-434d-ef46-68e863bf7634"
      },
      "outputs": [
        {
          "output_type": "stream",
          "name": "stdout",
          "text": [
            "[==================================================] 100.0% 376.1/376.1MB downloaded\n",
            "Dimensions of 300d GloVe vector: 300\n"
          ]
        }
      ],
      "source": [
        "# Load the pre-trained GloVe model with 300 dimensions\n",
        "glove_vectors_300d = api.load(\"glove-wiki-gigaword-300\")\n",
        "print(\"Dimensions of 300d GloVe vector:\", len(glove_vectors_300d['language']))"
      ]
    },
    {
      "cell_type": "code",
      "source": [],
      "metadata": {
        "id": "txhqGyFPHOUp"
      },
      "execution_count": null,
      "outputs": []
    }
  ],
  "metadata": {
    "kernelspec": {
      "display_name": "dataScience",
      "language": "python",
      "name": "python3"
    },
    "language_info": {
      "codemirror_mode": {
        "name": "ipython",
        "version": 3
      },
      "file_extension": ".py",
      "mimetype": "text/x-python",
      "name": "python",
      "nbconvert_exporter": "python",
      "pygments_lexer": "ipython3",
      "version": "3.11.9"
    },
    "colab": {
      "provenance": []
    }
  },
  "nbformat": 4,
  "nbformat_minor": 0
}