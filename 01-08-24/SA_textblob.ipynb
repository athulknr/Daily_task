{
 "cells": [
  {
   "cell_type": "code",
   "execution_count": 20,
   "id": "92d06ee1-5bd5-4112-812f-be957cba700f",
   "metadata": {},
   "outputs": [
    {
     "name": "stdout",
     "output_type": "stream",
     "text": [
      "Text:I love NLP ! It's works great and I'm very satisfied\n",
      "sentiment:Positive\n",
      "\n",
      "Text:This is my first experience on doing sentiment analysis\n",
      "sentiment:Positive\n",
      "\n",
      "Text:I am little bit disappointedThe NLP sentiment analysis is quiet intereseting it is neither good or bad\n",
      "sentiment:negative\n",
      "\n"
     ]
    }
   ],
   "source": [
    "#textblob library\n",
    "#create a sample text \n",
    "from textblob import TextBlob\n",
    "#\n",
    "texts =[\n",
    "    \"I love NLP ! It's works great and I'm very satisfied\",\n",
    "    \"This is my first experience on doing sentiment analysis\", \"I am little bit disappointed\"\n",
    "    \"The NLP sentiment analysis is quiet intereseting it is neither good or bad\",\n",
    "]\n",
    "\n",
    "# create function to do do the sentiment analysis\n",
    "def analyze_sentiment(text):\n",
    "    analysis = TextBlob(text)\n",
    "    #-1.0-1.0 polarity score\n",
    "    polarity = analysis.sentiment.polarity\n",
    "    if polarity>0:\n",
    "        sentiment=\"Positive\"\n",
    "    elif polarity<0:\n",
    "        sentiment=\"negative\"\n",
    "    else:\n",
    "        sentiment=\"neutral\"\n",
    "    return sentiment\n",
    "\n",
    "for text in texts :\n",
    "    sentiment = analyze_sentiment(text)\n",
    "    print(f\"Text:{text}\")\n",
    "    print(f\"sentiment:{sentiment}\\n\")"
   ]
  },
  {
   "cell_type": "code",
   "execution_count": null,
   "id": "4560ba9e-a005-429e-8542-3722513b0ac6",
   "metadata": {},
   "outputs": [],
   "source": []
  }
 ],
 "metadata": {
  "kernelspec": {
   "display_name": "Python 3 (ipykernel)",
   "language": "python",
   "name": "python3"
  },
  "language_info": {
   "codemirror_mode": {
    "name": "ipython",
    "version": 3
   },
   "file_extension": ".py",
   "mimetype": "text/x-python",
   "name": "python",
   "nbconvert_exporter": "python",
   "pygments_lexer": "ipython3",
   "version": "3.11.7"
  }
 },
 "nbformat": 4,
 "nbformat_minor": 5
}
