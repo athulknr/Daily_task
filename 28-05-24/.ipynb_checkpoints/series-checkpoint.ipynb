{
 "cells": [
  {
   "cell_type": "code",
   "execution_count": 1,
   "id": "49904ff3-b6e8-4ab7-86c7-313b7b323788",
   "metadata": {},
   "outputs": [],
   "source": [
    "import pandas as pd"
   ]
  },
  {
   "cell_type": "code",
   "execution_count": 6,
   "id": "abd6a582-f6b9-4e23-a8e5-7d44ca50f0d2",
   "metadata": {},
   "outputs": [
    {
     "name": "stdout",
     "output_type": "stream",
     "text": [
      "0    10\n",
      "1     2\n",
      "2     3\n",
      "3    45\n",
      "4    65\n",
      "dtype: int64\n"
     ]
    }
   ],
   "source": [
    "data =[10,2,3,45,65]\n",
    "series = pd.Series(data)\n",
    "# each series value have an index value which which will start from 0\n",
    "print(series)"
   ]
  },
  {
   "cell_type": "code",
   "execution_count": 13,
   "id": "6ab7330a-8e61-4201-abd0-bdd39ceb8192",
   "metadata": {},
   "outputs": [
    {
     "name": "stdout",
     "output_type": "stream",
     "text": [
      "45\n"
     ]
    }
   ],
   "source": [
    "#print the third element \n",
    "print(series[3])"
   ]
  },
  {
   "cell_type": "code",
   "execution_count": 35,
   "id": "20e0463a-69b7-4de2-9c8f-3f0855dee00c",
   "metadata": {},
   "outputs": [
    {
     "name": "stdout",
     "output_type": "stream",
     "text": [
      "a    10\n",
      "b    15\n",
      "dtype: int64\n"
     ]
    }
   ],
   "source": [
    "#create dictionary\n",
    "series_dict=pd.Series({\"a\":10,\"b\":15})\n",
    "print(series_dict)"
   ]
  },
  {
   "cell_type": "code",
   "execution_count": 18,
   "id": "ef6132f7-4db9-4ab3-8d2e-38975e90c719",
   "metadata": {},
   "outputs": [
    {
     "name": "stdout",
     "output_type": "stream",
     "text": [
      "0    20\n",
      "1    12\n",
      "2    13\n",
      "3    55\n",
      "4    75\n",
      "dtype: int64\n"
     ]
    }
   ],
   "source": [
    "#arithmetical operation\n",
    "series_add=series +10\n",
    "print(series_add)"
   ]
  },
  {
   "cell_type": "code",
   "execution_count": 19,
   "id": "a2d1a195-f819-44ba-8257-42c2807b3acc",
   "metadata": {},
   "outputs": [
    {
     "name": "stdout",
     "output_type": "stream",
     "text": [
      "3    45\n",
      "4    65\n",
      "dtype: int64\n"
     ]
    }
   ],
   "source": [
    "#filter elements in the series\n",
    "filtered_series=series[series>10]\n",
    "print(filtered_series)"
   ]
  },
  {
   "cell_type": "code",
   "execution_count": 21,
   "id": "9b267cd4-0929-4723-8315-db2ff96f5786",
   "metadata": {},
   "outputs": [
    {
     "name": "stdout",
     "output_type": "stream",
     "text": [
      "mean value of the series is 25.0\n"
     ]
    }
   ],
   "source": [
    "#mean value of the series\n",
    "mean = series.mean()\n",
    "print(f\"mean value of the series is {mean}\")"
   ]
  },
  {
   "cell_type": "markdown",
   "id": "c3fa1db8-f5e6-4f7e-8b84-b297486875af",
   "metadata": {},
   "source": [
    "## Data frame"
   ]
  },
  {
   "cell_type": "code",
   "execution_count": 24,
   "id": "f286a5c4-4ed4-418c-82e0-0930c957df95",
   "metadata": {},
   "outputs": [
    {
     "name": "stdout",
     "output_type": "stream",
     "text": [
      "      Name  Age   Place\n",
      "0  kingini   24  Kannur\n",
      "1    tuttu   23  Mavoor\n",
      "2     ikka   24  Punoor\n"
     ]
    }
   ],
   "source": [
    "dframe ={'Name':['kingini','tuttu','ikka'],'Age':[24,23,24],'Place':['Kannur','Mavoor','Punoor']}\n",
    "#create the data into dataframe\n",
    "df=pd.DataFrame(dframe)\n",
    "print(df)"
   ]
  },
  {
   "cell_type": "code",
   "execution_count": 25,
   "id": "98f332fe-bab4-4c12-be34-b3ba914c9292",
   "metadata": {},
   "outputs": [
    {
     "name": "stdout",
     "output_type": "stream",
     "text": [
      "0    kingini\n",
      "1      tuttu\n",
      "2       ikka\n",
      "Name: Name, dtype: object\n"
     ]
    }
   ],
   "source": [
    "print(df['Name'])"
   ]
  },
  {
   "cell_type": "code",
   "execution_count": 29,
   "id": "5a8f3531-d61c-40d3-ad71-054a23867725",
   "metadata": {},
   "outputs": [
    {
     "name": "stdout",
     "output_type": "stream",
     "text": [
      "      Name   Place\n",
      "0  kingini  Kannur\n",
      "1    tuttu  Mavoor\n",
      "2     ikka  Punoor\n"
     ]
    }
   ],
   "source": [
    "print(df[['Name', 'Place']])"
   ]
  },
  {
   "cell_type": "code",
   "execution_count": 30,
   "id": "dfc9455e-74b3-4f50-8360-42c6fb6f48a6",
   "metadata": {},
   "outputs": [
    {
     "name": "stdout",
     "output_type": "stream",
     "text": [
      "Name       ikka\n",
      "Age          24\n",
      "Place    Punoor\n",
      "Name: 2, dtype: object\n"
     ]
    }
   ],
   "source": [
    "#access each row from dataframe we need \n",
    "print(df.iloc[2])"
   ]
  },
  {
   "cell_type": "code",
   "execution_count": 34,
   "id": "bfadd8ea-37e7-4d8c-ac2c-98fe3607663a",
   "metadata": {},
   "outputs": [
    {
     "name": "stdout",
     "output_type": "stream",
     "text": [
      "      Name  Age   Place\n",
      "0  kingini   24  Kannur\n",
      "2     ikka   24  Punoor\n"
     ]
    }
   ],
   "source": [
    "print(df[df['Age'] > 23])"
   ]
  },
  {
   "cell_type": "code",
   "execution_count": 36,
   "id": "4626ea73-739e-4fa8-b0d3-343a407371da",
   "metadata": {},
   "outputs": [
    {
     "name": "stdout",
     "output_type": "stream",
     "text": [
      "      Name  Age   Place  stiphend\n",
      "0  kingini   24  Kannur     15000\n",
      "1    tuttu   23  Mavoor      5000\n",
      "2     ikka   24  Punoor      5000\n"
     ]
    }
   ],
   "source": [
    "#add a new column to the dataframe\n",
    "df['stiphend']=[15000,5000,5000]\n",
    "print(df)"
   ]
  },
  {
   "cell_type": "code",
   "execution_count": 41,
   "id": "cebc9695-768b-47d6-bb97-aa6b98448b8f",
   "metadata": {},
   "outputs": [],
   "source": [
    "#remove a column\n",
    "df = df.drop(columns=['stiphend'])"
   ]
  },
  {
   "cell_type": "code",
   "execution_count": 42,
   "id": "fd0b832c-aa14-4500-9444-c97c95406fc1",
   "metadata": {},
   "outputs": [
    {
     "name": "stdout",
     "output_type": "stream",
     "text": [
      "             Age\n",
      "count   3.000000\n",
      "mean   23.666667\n",
      "std     0.577350\n",
      "min    23.000000\n",
      "25%    23.500000\n",
      "50%    24.000000\n",
      "75%    24.000000\n",
      "max    24.000000\n"
     ]
    }
   ],
   "source": [
    "#statistical function\n",
    "#describe() help get the summery of statistics of your data frame\n",
    "print(df.describe())"
   ]
  },
  {
   "cell_type": "code",
   "execution_count": 43,
   "id": "c8f4b2a6-5b9a-4a99-b5f3-daafa98a43b8",
   "metadata": {},
   "outputs": [
    {
     "name": "stdout",
     "output_type": "stream",
     "text": [
      "       Name  Age      Place  Salary\n",
      "0   Kingini   20     Kannur    4500\n",
      "1     tuttu   23    Calicut   35000\n",
      "2    chinnu   23  kolathara   30000\n",
      "3     dhamu   23    calicut   30000\n",
      "4      ikka   24     ponoor   40000\n",
      "5      Angu   24     palayi   50000\n",
      "6  Kuttappi   23  chevayoor   75000\n"
     ]
    }
   ],
   "source": [
    "df = pd.read_csv('data.csv')\n",
    "print(df)"
   ]
  },
  {
   "cell_type": "code",
   "execution_count": 46,
   "id": "9963098d-7175-423f-ab71-44b10daa57e0",
   "metadata": {},
   "outputs": [
    {
     "name": "stdout",
     "output_type": "stream",
     "text": [
      "       Name  Age      Place\n",
      "0   Kingini   20     Kannur\n",
      "1     tuttu   23    Calicut\n",
      "2    chinnu   23  kolathara\n",
      "3     dhamu   23    calicut\n",
      "4      ikka   24     ponoor\n",
      "5      Angu   24     palayi\n",
      "6  Kuttappi   23  chevayoor\n"
     ]
    }
   ],
   "source": [
    "df = pd.read_csv('data.csv',dtype={'Age':int,'salary':float},usecols= ['Name','Age','Place'])\n",
    "print(df)"
   ]
  },
  {
   "cell_type": "code",
   "execution_count": 48,
   "id": "d8d231fa-1d3f-4f3e-950d-79f568c16db7",
   "metadata": {},
   "outputs": [
    {
     "name": "stdout",
     "output_type": "stream",
     "text": [
      "       Name   Age      Place   Salary\n",
      "0   Kingini  20.0     Kannur   4500.0\n",
      "1     tuttu  23.0    Calicut  35000.0\n",
      "2    chinnu  23.0  kolathara  30000.0\n",
      "3     dhamu  23.0    calicut  30000.0\n",
      "4      ikka  24.0     ponoor  40000.0\n",
      "5      Angu  24.0     palayi  50000.0\n",
      "6  Kuttappi  23.0  chevayoor  75000.0\n",
      "7       NaN   NaN        NaN      NaN\n"
     ]
    }
   ],
   "source": [
    "df = pd.read_csv('data.csv')\n",
    "print(df)"
   ]
  },
  {
   "cell_type": "code",
   "execution_count": 49,
   "id": "419bc8a6-6be8-4dba-8c07-0a7ec59df2df",
   "metadata": {},
   "outputs": [
    {
     "name": "stdout",
     "output_type": "stream",
     "text": [
      "       Name   Age      Place   Salary\n",
      "0   Kingini  20.0     Kannur   4500.0\n",
      "1     tuttu  23.0    Calicut  35000.0\n",
      "2    chinnu  23.0  kolathara  30000.0\n",
      "3     dhamu  23.0    calicut  30000.0\n",
      "4      ikka  24.0     ponoor  40000.0\n",
      "5      Angu  24.0     palayi  50000.0\n",
      "6  Kuttappi  23.0  chevayoor  75000.0\n"
     ]
    }
   ],
   "source": [
    "df_drop_NaN=df.dropna(how='all')\n",
    "print(df_drop_NaN)"
   ]
  },
  {
   "cell_type": "code",
   "execution_count": 53,
   "id": "42d044b7-2175-4525-8ef9-e14daa1fd2ad",
   "metadata": {},
   "outputs": [
    {
     "name": "stdout",
     "output_type": "stream",
     "text": [
      "       Name   Age      Place   Salary\n",
      "0   Kingini  20.0     Kannur   4500.0\n",
      "1     tuttu  23.0    Calicut  35000.0\n",
      "2    chinnu  23.0  kolathara  30000.0\n",
      "3     dhamu  23.0    calicut  30000.0\n",
      "4      ikka  24.0     ponoor  40000.0\n",
      "5      Angu  24.0     palayi  50000.0\n",
      "6  Kuttappi  23.0  chevayoor  75000.0\n"
     ]
    }
   ],
   "source": [
    "df_drop_NaN=df.dropna(axis=0,how='all')\n",
    "print(df_drop_NaN)"
   ]
  },
  {
   "cell_type": "code",
   "execution_count": 56,
   "id": "103333ec-8858-4dd7-bf35-9235a78da344",
   "metadata": {},
   "outputs": [
    {
     "name": "stdout",
     "output_type": "stream",
     "text": [
      "       Name   Age      Place   Salary\n",
      "0   Kingini  20.0     Kannur   4500.0\n",
      "1     tuttu  23.0    Calicut  35000.0\n",
      "2    chinnu  23.0  kolathara  30000.0\n",
      "3     dhamu  23.0    calicut  30000.0\n",
      "4      ikka  24.0     ponoor  40000.0\n",
      "5      Angu  24.0     palayi  50000.0\n",
      "6  Kuttappi  23.0  chevayoor  75000.0\n",
      "7         0   0.0          0      0.0\n"
     ]
    }
   ],
   "source": [
    "df_filled=df.fillna(0)\n",
    "print(df_filled)"
   ]
  },
  {
   "cell_type": "markdown",
   "id": "ff63afdb-5af4-47f0-9383-175f3e5e197b",
   "metadata": {},
   "source": [
    "# Air pollution"
   ]
  },
  {
   "cell_type": "code",
   "execution_count": 100,
   "id": "73df5b19-17e9-4070-b7b9-f0efbda89137",
   "metadata": {},
   "outputs": [
    {
     "data": {
      "text/html": [
       "<div>\n",
       "<style scoped>\n",
       "    .dataframe tbody tr th:only-of-type {\n",
       "        vertical-align: middle;\n",
       "    }\n",
       "\n",
       "    .dataframe tbody tr th {\n",
       "        vertical-align: top;\n",
       "    }\n",
       "\n",
       "    .dataframe thead th {\n",
       "        text-align: right;\n",
       "    }\n",
       "</style>\n",
       "<table border=\"1\" class=\"dataframe\">\n",
       "  <thead>\n",
       "    <tr style=\"text-align: right;\">\n",
       "      <th></th>\n",
       "      <th>Entity</th>\n",
       "      <th>Code</th>\n",
       "      <th>Year</th>\n",
       "      <th>Nitrogen oxide (NOx)</th>\n",
       "      <th>Sulphur dioxide (SO₂) emissions</th>\n",
       "      <th>Carbon monoxide (CO) emissions</th>\n",
       "      <th>Organic carbon (OC) emissions</th>\n",
       "      <th>Non-methane volatile organic compounds (NMVOC) emissions</th>\n",
       "      <th>Black carbon (BC) emissions</th>\n",
       "      <th>Ammonia (NH₃) emissions</th>\n",
       "      <th>Unnamed: 10</th>\n",
       "    </tr>\n",
       "  </thead>\n",
       "  <tbody>\n",
       "    <tr>\n",
       "      <th>0</th>\n",
       "      <td>Afghanistan</td>\n",
       "      <td>AFG</td>\n",
       "      <td>1750</td>\n",
       "      <td>555.47860</td>\n",
       "      <td>174.87167</td>\n",
       "      <td>142073.31</td>\n",
       "      <td>5456.8850</td>\n",
       "      <td>13596.633</td>\n",
       "      <td>1633.0308</td>\n",
       "      <td>7681.0464</td>\n",
       "      <td>NaN</td>\n",
       "    </tr>\n",
       "    <tr>\n",
       "      <th>1</th>\n",
       "      <td>Afghanistan</td>\n",
       "      <td>AFG</td>\n",
       "      <td>1760</td>\n",
       "      <td>578.50757</td>\n",
       "      <td>181.99332</td>\n",
       "      <td>147859.23</td>\n",
       "      <td>5679.1167</td>\n",
       "      <td>14150.870</td>\n",
       "      <td>1699.5359</td>\n",
       "      <td>8000.8574</td>\n",
       "      <td>NaN</td>\n",
       "    </tr>\n",
       "    <tr>\n",
       "      <th>2</th>\n",
       "      <td>Afghanistan</td>\n",
       "      <td>AFG</td>\n",
       "      <td>1770</td>\n",
       "      <td>602.47980</td>\n",
       "      <td>189.38850</td>\n",
       "      <td>153867.40</td>\n",
       "      <td>5909.8840</td>\n",
       "      <td>14726.470</td>\n",
       "      <td>1768.5956</td>\n",
       "      <td>8333.9610</td>\n",
       "      <td>NaN</td>\n",
       "    </tr>\n",
       "    <tr>\n",
       "      <th>3</th>\n",
       "      <td>Afghanistan</td>\n",
       "      <td>AFG</td>\n",
       "      <td>1780</td>\n",
       "      <td>627.43220</td>\n",
       "      <td>197.06535</td>\n",
       "      <td>160104.42</td>\n",
       "      <td>6149.4410</td>\n",
       "      <td>15324.077</td>\n",
       "      <td>1840.2854</td>\n",
       "      <td>8680.9060</td>\n",
       "      <td>NaN</td>\n",
       "    </tr>\n",
       "    <tr>\n",
       "      <th>4</th>\n",
       "      <td>Afghanistan</td>\n",
       "      <td>AFG</td>\n",
       "      <td>1790</td>\n",
       "      <td>653.40310</td>\n",
       "      <td>205.03189</td>\n",
       "      <td>166576.77</td>\n",
       "      <td>6398.0370</td>\n",
       "      <td>15944.332</td>\n",
       "      <td>1914.6805</td>\n",
       "      <td>9042.2660</td>\n",
       "      <td>NaN</td>\n",
       "    </tr>\n",
       "    <tr>\n",
       "      <th>...</th>\n",
       "      <td>...</td>\n",
       "      <td>...</td>\n",
       "      <td>...</td>\n",
       "      <td>...</td>\n",
       "      <td>...</td>\n",
       "      <td>...</td>\n",
       "      <td>...</td>\n",
       "      <td>...</td>\n",
       "      <td>...</td>\n",
       "      <td>...</td>\n",
       "      <td>...</td>\n",
       "    </tr>\n",
       "    <tr>\n",
       "      <th>48220</th>\n",
       "      <td>Zimbabwe</td>\n",
       "      <td>ZWE</td>\n",
       "      <td>2018</td>\n",
       "      <td>82210.49000</td>\n",
       "      <td>56748.18400</td>\n",
       "      <td>1557296.50</td>\n",
       "      <td>111642.5100</td>\n",
       "      <td>291050.400</td>\n",
       "      <td>32050.9020</td>\n",
       "      <td>124543.0160</td>\n",
       "      <td>NaN</td>\n",
       "    </tr>\n",
       "    <tr>\n",
       "      <th>48221</th>\n",
       "      <td>Zimbabwe</td>\n",
       "      <td>ZWE</td>\n",
       "      <td>2019</td>\n",
       "      <td>79547.03000</td>\n",
       "      <td>53065.87500</td>\n",
       "      <td>1574731.90</td>\n",
       "      <td>113660.8600</td>\n",
       "      <td>294380.620</td>\n",
       "      <td>32552.8750</td>\n",
       "      <td>127205.2700</td>\n",
       "      <td>NaN</td>\n",
       "    </tr>\n",
       "    <tr>\n",
       "      <th>48222</th>\n",
       "      <td>Zimbabwe</td>\n",
       "      <td>ZWE</td>\n",
       "      <td>2020</td>\n",
       "      <td>68338.91400</td>\n",
       "      <td>43894.06000</td>\n",
       "      <td>1593834.00</td>\n",
       "      <td>115329.2340</td>\n",
       "      <td>298699.940</td>\n",
       "      <td>32467.2950</td>\n",
       "      <td>129910.9300</td>\n",
       "      <td>NaN</td>\n",
       "    </tr>\n",
       "    <tr>\n",
       "      <th>48223</th>\n",
       "      <td>Zimbabwe</td>\n",
       "      <td>ZWE</td>\n",
       "      <td>2021</td>\n",
       "      <td>71148.93000</td>\n",
       "      <td>45291.41800</td>\n",
       "      <td>1624286.00</td>\n",
       "      <td>117177.1950</td>\n",
       "      <td>304488.380</td>\n",
       "      <td>33174.6050</td>\n",
       "      <td>132651.4800</td>\n",
       "      <td>NaN</td>\n",
       "    </tr>\n",
       "    <tr>\n",
       "      <th>48224</th>\n",
       "      <td>Zimbabwe</td>\n",
       "      <td>ZWE</td>\n",
       "      <td>2022</td>\n",
       "      <td>73363.71000</td>\n",
       "      <td>51669.65000</td>\n",
       "      <td>1626256.20</td>\n",
       "      <td>117211.6800</td>\n",
       "      <td>305560.900</td>\n",
       "      <td>33231.3200</td>\n",
       "      <td>134480.5800</td>\n",
       "      <td>NaN</td>\n",
       "    </tr>\n",
       "  </tbody>\n",
       "</table>\n",
       "<p>48225 rows × 11 columns</p>\n",
       "</div>"
      ],
      "text/plain": [
       "            Entity Code  Year  Nitrogen oxide (NOx)  \\\n",
       "0      Afghanistan  AFG  1750             555.47860   \n",
       "1      Afghanistan  AFG  1760             578.50757   \n",
       "2      Afghanistan  AFG  1770             602.47980   \n",
       "3      Afghanistan  AFG  1780             627.43220   \n",
       "4      Afghanistan  AFG  1790             653.40310   \n",
       "...            ...  ...   ...                   ...   \n",
       "48220     Zimbabwe  ZWE  2018           82210.49000   \n",
       "48221     Zimbabwe  ZWE  2019           79547.03000   \n",
       "48222     Zimbabwe  ZWE  2020           68338.91400   \n",
       "48223     Zimbabwe  ZWE  2021           71148.93000   \n",
       "48224     Zimbabwe  ZWE  2022           73363.71000   \n",
       "\n",
       "       Sulphur dioxide (SO₂) emissions  Carbon monoxide (CO) emissions  \\\n",
       "0                            174.87167                       142073.31   \n",
       "1                            181.99332                       147859.23   \n",
       "2                            189.38850                       153867.40   \n",
       "3                            197.06535                       160104.42   \n",
       "4                            205.03189                       166576.77   \n",
       "...                                ...                             ...   \n",
       "48220                      56748.18400                      1557296.50   \n",
       "48221                      53065.87500                      1574731.90   \n",
       "48222                      43894.06000                      1593834.00   \n",
       "48223                      45291.41800                      1624286.00   \n",
       "48224                      51669.65000                      1626256.20   \n",
       "\n",
       "       Organic carbon (OC) emissions  \\\n",
       "0                          5456.8850   \n",
       "1                          5679.1167   \n",
       "2                          5909.8840   \n",
       "3                          6149.4410   \n",
       "4                          6398.0370   \n",
       "...                              ...   \n",
       "48220                    111642.5100   \n",
       "48221                    113660.8600   \n",
       "48222                    115329.2340   \n",
       "48223                    117177.1950   \n",
       "48224                    117211.6800   \n",
       "\n",
       "       Non-methane volatile organic compounds (NMVOC) emissions  \\\n",
       "0                                              13596.633          \n",
       "1                                              14150.870          \n",
       "2                                              14726.470          \n",
       "3                                              15324.077          \n",
       "4                                              15944.332          \n",
       "...                                                  ...          \n",
       "48220                                         291050.400          \n",
       "48221                                         294380.620          \n",
       "48222                                         298699.940          \n",
       "48223                                         304488.380          \n",
       "48224                                         305560.900          \n",
       "\n",
       "       Black carbon (BC) emissions  Ammonia (NH₃) emissions  Unnamed: 10  \n",
       "0                        1633.0308                7681.0464          NaN  \n",
       "1                        1699.5359                8000.8574          NaN  \n",
       "2                        1768.5956                8333.9610          NaN  \n",
       "3                        1840.2854                8680.9060          NaN  \n",
       "4                        1914.6805                9042.2660          NaN  \n",
       "...                            ...                      ...          ...  \n",
       "48220                   32050.9020              124543.0160          NaN  \n",
       "48221                   32552.8750              127205.2700          NaN  \n",
       "48222                   32467.2950              129910.9300          NaN  \n",
       "48223                   33174.6050              132651.4800          NaN  \n",
       "48224                   33231.3200              134480.5800          NaN  \n",
       "\n",
       "[48225 rows x 11 columns]"
      ]
     },
     "execution_count": 100,
     "metadata": {},
     "output_type": "execute_result"
    }
   ],
   "source": [
    "#Convert the file into a dataframe\n",
    "#create filter based on the country find the median mean std for the respective column and store into a new column delete the the repeated entries change the null values into 0\n",
    "import pandas as pd\n",
    "air = pd.read_csv('air-pollution.csv')\n",
    "air"
   ]
  },
  {
   "cell_type": "code",
   "execution_count": 101,
   "id": "7cb3d60a-c043-40df-ad8b-a9785ffc1e5f",
   "metadata": {},
   "outputs": [
    {
     "name": "stdout",
     "output_type": "stream",
     "text": [
      "            Entity Code  Year  Nitrogen oxide (NOx)  \\\n",
      "0      Afghanistan  AFG  1750             555.47860   \n",
      "1      Afghanistan  AFG  1760             578.50757   \n",
      "2      Afghanistan  AFG  1770             602.47980   \n",
      "3      Afghanistan  AFG  1780             627.43220   \n",
      "4      Afghanistan  AFG  1790             653.40310   \n",
      "...            ...  ...   ...                   ...   \n",
      "48220     Zimbabwe  ZWE  2018           82210.49000   \n",
      "48221     Zimbabwe  ZWE  2019           79547.03000   \n",
      "48222     Zimbabwe  ZWE  2020           68338.91400   \n",
      "48223     Zimbabwe  ZWE  2021           71148.93000   \n",
      "48224     Zimbabwe  ZWE  2022           73363.71000   \n",
      "\n",
      "       Sulphur dioxide (SO₂) emissions  Carbon monoxide (CO) emissions  \\\n",
      "0                            174.87167                       142073.31   \n",
      "1                            181.99332                       147859.23   \n",
      "2                            189.38850                       153867.40   \n",
      "3                            197.06535                       160104.42   \n",
      "4                            205.03189                       166576.77   \n",
      "...                                ...                             ...   \n",
      "48220                      56748.18400                      1557296.50   \n",
      "48221                      53065.87500                      1574731.90   \n",
      "48222                      43894.06000                      1593834.00   \n",
      "48223                      45291.41800                      1624286.00   \n",
      "48224                      51669.65000                      1626256.20   \n",
      "\n",
      "       Organic carbon (OC) emissions  \\\n",
      "0                          5456.8850   \n",
      "1                          5679.1167   \n",
      "2                          5909.8840   \n",
      "3                          6149.4410   \n",
      "4                          6398.0370   \n",
      "...                              ...   \n",
      "48220                    111642.5100   \n",
      "48221                    113660.8600   \n",
      "48222                    115329.2340   \n",
      "48223                    117177.1950   \n",
      "48224                    117211.6800   \n",
      "\n",
      "       Non-methane volatile organic compounds (NMVOC) emissions  \\\n",
      "0                                              13596.633          \n",
      "1                                              14150.870          \n",
      "2                                              14726.470          \n",
      "3                                              15324.077          \n",
      "4                                              15944.332          \n",
      "...                                                  ...          \n",
      "48220                                         291050.400          \n",
      "48221                                         294380.620          \n",
      "48222                                         298699.940          \n",
      "48223                                         304488.380          \n",
      "48224                                         305560.900          \n",
      "\n",
      "       Black carbon (BC) emissions  Ammonia (NH₃) emissions  Unnamed: 10  \n",
      "0                        1633.0308                7681.0464          NaN  \n",
      "1                        1699.5359                8000.8574          NaN  \n",
      "2                        1768.5956                8333.9610          NaN  \n",
      "3                        1840.2854                8680.9060          NaN  \n",
      "4                        1914.6805                9042.2660          NaN  \n",
      "...                            ...                      ...          ...  \n",
      "48220                   32050.9020              124543.0160          NaN  \n",
      "48221                   32552.8750              127205.2700          NaN  \n",
      "48222                   32467.2950              129910.9300          NaN  \n",
      "48223                   33174.6050              132651.4800          NaN  \n",
      "48224                   33231.3200              134480.5800          NaN  \n",
      "\n",
      "[48225 rows x 11 columns]\n"
     ]
    }
   ],
   "source": [
    "#create the data into dataframe\n",
    "df=pd.DataFrame(air)\n",
    "print(df)"
   ]
  },
  {
   "cell_type": "code",
   "execution_count": 108,
   "id": "07de6ac0-84bf-4183-84e5-fe021f0f3f1a",
   "metadata": {},
   "outputs": [],
   "source": [
    "#Replace NaN with 0\n",
    "air.fillna(0, inplace=True)"
   ]
  },
  {
   "cell_type": "code",
   "execution_count": 109,
   "id": "88baa656-19e9-4720-9b70-3e18a4794867",
   "metadata": {},
   "outputs": [
    {
     "name": "stdout",
     "output_type": "stream",
     "text": [
      "      Entity Code  Year  Nitrogen oxide (NOx)  \\\n",
      "19475  India  IND  1750             30488.506   \n",
      "19476  India  IND  1760             31085.959   \n",
      "19477  India  IND  1770             31692.695   \n",
      "19478  India  IND  1780             32308.560   \n",
      "19479  India  IND  1790             32933.355   \n",
      "...      ...  ...   ...                   ...   \n",
      "19698  India  IND  2018           9818858.000   \n",
      "19699  India  IND  2019           9464296.000   \n",
      "19700  India  IND  2020           8575110.000   \n",
      "19701  India  IND  2021           9056502.000   \n",
      "19702  India  IND  2022           9350050.000   \n",
      "\n",
      "       Sulphur dioxide (SO₂) emissions  Carbon monoxide (CO) emissions  \\\n",
      "19475                     3.481388e+04                       8360133.5   \n",
      "19476                     3.543608e+04                       8509232.0   \n",
      "19477                     3.606059e+04                       8658843.0   \n",
      "19478                     3.668625e+04                       8808680.0   \n",
      "19479                     3.731170e+04                       8958415.0   \n",
      "...                                ...                             ...   \n",
      "19698                     1.079536e+07                      48736120.0   \n",
      "19699                     1.045351e+07                      47878940.0   \n",
      "19700                     9.621835e+06                      46350892.0   \n",
      "19701                     1.075944e+07                      46867750.0   \n",
      "19702                     1.124342e+07                      46949000.0   \n",
      "\n",
      "       Organic carbon (OC) emissions  \\\n",
      "19475                      416970.56   \n",
      "19476                      424385.12   \n",
      "19477                      431822.25   \n",
      "19478                      439267.25   \n",
      "19479                      446703.34   \n",
      "...                              ...   \n",
      "19698                     2440055.50   \n",
      "19699                     2428371.00   \n",
      "19700                     2447980.00   \n",
      "19701                     2494958.00   \n",
      "19702                     2498395.20   \n",
      "\n",
      "       Non-methane volatile organic compounds (NMVOC) emissions  \\\n",
      "19475                                          964998.75          \n",
      "19476                                          982068.06          \n",
      "19477                                          999177.10          \n",
      "19478                                         1016290.40          \n",
      "19479                                         1033367.50          \n",
      "...                                                  ...          \n",
      "19698                                        10479997.00          \n",
      "19699                                        10427760.00          \n",
      "19700                                        10265922.00          \n",
      "19701                                        10341310.00          \n",
      "19702                                        10349039.00          \n",
      "\n",
      "       Black carbon (BC) emissions  Ammonia (NH₃) emissions  Unnamed: 10  \n",
      "19475                   122179.055                479372.88          0.0  \n",
      "19476                   124343.670                488997.53          0.0  \n",
      "19477                   126513.800                498799.97          0.0  \n",
      "19478                   128685.000                508781.62          0.0  \n",
      "19479                   130852.210                518943.75          0.0  \n",
      "...                            ...                      ...          ...  \n",
      "19698                   835241.300               9951087.00          0.0  \n",
      "19699                   815178.060              10061199.00          0.0  \n",
      "19700                   788972.500              10168386.00          0.0  \n",
      "19701                   802068.250              10278381.00          0.0  \n",
      "19702                   809142.800              10385615.00          0.0  \n",
      "\n",
      "[228 rows x 11 columns]\n"
     ]
    }
   ],
   "source": [
    "filtered_country = air[air['Entity'] == 'India']\n",
    "print(filtered_country)"
   ]
  },
  {
   "cell_type": "code",
   "execution_count": 89,
   "id": "f28d2303-62e6-4854-a402-04a3bbf1b278",
   "metadata": {},
   "outputs": [
    {
     "name": "stdout",
     "output_type": "stream",
     "text": [
      "              Year  Nitrogen oxide (NOx)  Sulphur dioxide (SO₂) emissions  \\\n",
      "count   228.000000          2.280000e+02                     2.280000e+02   \n",
      "mean   1907.907895          1.303766e+06                     1.310759e+06   \n",
      "std      67.109519          2.483993e+06                     2.511064e+06   \n",
      "min    1750.000000          3.048851e+04                     3.481388e+04   \n",
      "25%    1851.750000          4.226753e+04                     4.395770e+04   \n",
      "50%    1908.500000          1.758943e+05                     3.397448e+05   \n",
      "75%    1965.250000          9.379858e+05                     9.856426e+05   \n",
      "max    2022.000000          9.818858e+06                     1.124342e+07   \n",
      "\n",
      "       Carbon monoxide (CO) emissions  Organic carbon (OC) emissions  \\\n",
      "count                    2.280000e+02                   2.280000e+02   \n",
      "mean                     1.884261e+07                   8.839487e+05   \n",
      "std                      1.146316e+07                   5.189560e+05   \n",
      "min                      8.360134e+06                   4.169706e+05   \n",
      "25%                      1.054905e+07                   5.256599e+05   \n",
      "50%                      1.512604e+07                   7.181935e+05   \n",
      "75%                      2.087098e+07                   8.966426e+05   \n",
      "max                      4.949433e+07                   2.498395e+06   \n",
      "\n",
      "       Non-methane volatile organic compounds (NMVOC) emissions  \\\n",
      "count                                       2.280000e+02          \n",
      "mean                                        3.114111e+06          \n",
      "std                                         2.808321e+06          \n",
      "min                                         9.649988e+05          \n",
      "25%                                         1.214381e+06          \n",
      "50%                                         1.948796e+06          \n",
      "75%                                         3.565418e+06          \n",
      "max                                         1.048000e+07          \n",
      "\n",
      "       Black carbon (BC) emissions  Ammonia (NH₃) emissions  Unnamed: 10  \n",
      "count                   228.000000             2.280000e+02        228.0  \n",
      "mean                 286716.972741             2.343952e+06          0.0  \n",
      "std                  189435.688014             2.803421e+06          0.0  \n",
      "min                  122179.055000             4.793729e+05          0.0  \n",
      "25%                  153853.565000             6.637391e+05          0.0  \n",
      "50%                  226779.900000             8.765171e+05          0.0  \n",
      "75%                  302536.150000             2.426634e+06          0.0  \n",
      "max                  842624.800000             1.038562e+07          0.0  \n"
     ]
    }
   ],
   "source": [
    "count=filtered_country.describe()\n",
    "print(count)"
   ]
  },
  {
   "cell_type": "code",
   "execution_count": 90,
   "id": "8d7d6043-88f6-4308-8c86-4001597e80b0",
   "metadata": {},
   "outputs": [
    {
     "data": {
      "text/html": [
       "<div>\n",
       "<style scoped>\n",
       "    .dataframe tbody tr th:only-of-type {\n",
       "        vertical-align: middle;\n",
       "    }\n",
       "\n",
       "    .dataframe tbody tr th {\n",
       "        vertical-align: top;\n",
       "    }\n",
       "\n",
       "    .dataframe thead th {\n",
       "        text-align: right;\n",
       "    }\n",
       "</style>\n",
       "<table border=\"1\" class=\"dataframe\">\n",
       "  <thead>\n",
       "    <tr style=\"text-align: right;\">\n",
       "      <th></th>\n",
       "      <th>Year</th>\n",
       "      <th>Nitrogen oxide (NOx)</th>\n",
       "      <th>Sulphur dioxide (SO₂) emissions</th>\n",
       "      <th>Carbon monoxide (CO) emissions</th>\n",
       "      <th>Organic carbon (OC) emissions</th>\n",
       "      <th>Non-methane volatile organic compounds (NMVOC) emissions</th>\n",
       "      <th>Black carbon (BC) emissions</th>\n",
       "      <th>Ammonia (NH₃) emissions</th>\n",
       "      <th>Unnamed: 10</th>\n",
       "    </tr>\n",
       "  </thead>\n",
       "  <tbody>\n",
       "    <tr>\n",
       "      <th>count</th>\n",
       "      <td>228.000000</td>\n",
       "      <td>2.280000e+02</td>\n",
       "      <td>2.280000e+02</td>\n",
       "      <td>2.280000e+02</td>\n",
       "      <td>2.280000e+02</td>\n",
       "      <td>2.280000e+02</td>\n",
       "      <td>228.000000</td>\n",
       "      <td>2.280000e+02</td>\n",
       "      <td>228.0</td>\n",
       "    </tr>\n",
       "    <tr>\n",
       "      <th>mean</th>\n",
       "      <td>1907.907895</td>\n",
       "      <td>1.303766e+06</td>\n",
       "      <td>1.310759e+06</td>\n",
       "      <td>1.884261e+07</td>\n",
       "      <td>8.839487e+05</td>\n",
       "      <td>3.114111e+06</td>\n",
       "      <td>286716.972741</td>\n",
       "      <td>2.343952e+06</td>\n",
       "      <td>0.0</td>\n",
       "    </tr>\n",
       "    <tr>\n",
       "      <th>std</th>\n",
       "      <td>67.109519</td>\n",
       "      <td>2.483993e+06</td>\n",
       "      <td>2.511064e+06</td>\n",
       "      <td>1.146316e+07</td>\n",
       "      <td>5.189560e+05</td>\n",
       "      <td>2.808321e+06</td>\n",
       "      <td>189435.688014</td>\n",
       "      <td>2.803421e+06</td>\n",
       "      <td>0.0</td>\n",
       "    </tr>\n",
       "    <tr>\n",
       "      <th>min</th>\n",
       "      <td>1750.000000</td>\n",
       "      <td>3.048851e+04</td>\n",
       "      <td>3.481388e+04</td>\n",
       "      <td>8.360134e+06</td>\n",
       "      <td>4.169706e+05</td>\n",
       "      <td>9.649988e+05</td>\n",
       "      <td>122179.055000</td>\n",
       "      <td>4.793729e+05</td>\n",
       "      <td>0.0</td>\n",
       "    </tr>\n",
       "    <tr>\n",
       "      <th>25%</th>\n",
       "      <td>1851.750000</td>\n",
       "      <td>4.226753e+04</td>\n",
       "      <td>4.395770e+04</td>\n",
       "      <td>1.054905e+07</td>\n",
       "      <td>5.256599e+05</td>\n",
       "      <td>1.214381e+06</td>\n",
       "      <td>153853.565000</td>\n",
       "      <td>6.637391e+05</td>\n",
       "      <td>0.0</td>\n",
       "    </tr>\n",
       "    <tr>\n",
       "      <th>50%</th>\n",
       "      <td>1908.500000</td>\n",
       "      <td>1.758943e+05</td>\n",
       "      <td>3.397448e+05</td>\n",
       "      <td>1.512604e+07</td>\n",
       "      <td>7.181935e+05</td>\n",
       "      <td>1.948796e+06</td>\n",
       "      <td>226779.900000</td>\n",
       "      <td>8.765171e+05</td>\n",
       "      <td>0.0</td>\n",
       "    </tr>\n",
       "    <tr>\n",
       "      <th>75%</th>\n",
       "      <td>1965.250000</td>\n",
       "      <td>9.379858e+05</td>\n",
       "      <td>9.856426e+05</td>\n",
       "      <td>2.087098e+07</td>\n",
       "      <td>8.966426e+05</td>\n",
       "      <td>3.565418e+06</td>\n",
       "      <td>302536.150000</td>\n",
       "      <td>2.426634e+06</td>\n",
       "      <td>0.0</td>\n",
       "    </tr>\n",
       "    <tr>\n",
       "      <th>max</th>\n",
       "      <td>2022.000000</td>\n",
       "      <td>9.818858e+06</td>\n",
       "      <td>1.124342e+07</td>\n",
       "      <td>4.949433e+07</td>\n",
       "      <td>2.498395e+06</td>\n",
       "      <td>1.048000e+07</td>\n",
       "      <td>842624.800000</td>\n",
       "      <td>1.038562e+07</td>\n",
       "      <td>0.0</td>\n",
       "    </tr>\n",
       "  </tbody>\n",
       "</table>\n",
       "</div>"
      ],
      "text/plain": [
       "              Year  Nitrogen oxide (NOx)  Sulphur dioxide (SO₂) emissions  \\\n",
       "count   228.000000          2.280000e+02                     2.280000e+02   \n",
       "mean   1907.907895          1.303766e+06                     1.310759e+06   \n",
       "std      67.109519          2.483993e+06                     2.511064e+06   \n",
       "min    1750.000000          3.048851e+04                     3.481388e+04   \n",
       "25%    1851.750000          4.226753e+04                     4.395770e+04   \n",
       "50%    1908.500000          1.758943e+05                     3.397448e+05   \n",
       "75%    1965.250000          9.379858e+05                     9.856426e+05   \n",
       "max    2022.000000          9.818858e+06                     1.124342e+07   \n",
       "\n",
       "       Carbon monoxide (CO) emissions  Organic carbon (OC) emissions  \\\n",
       "count                    2.280000e+02                   2.280000e+02   \n",
       "mean                     1.884261e+07                   8.839487e+05   \n",
       "std                      1.146316e+07                   5.189560e+05   \n",
       "min                      8.360134e+06                   4.169706e+05   \n",
       "25%                      1.054905e+07                   5.256599e+05   \n",
       "50%                      1.512604e+07                   7.181935e+05   \n",
       "75%                      2.087098e+07                   8.966426e+05   \n",
       "max                      4.949433e+07                   2.498395e+06   \n",
       "\n",
       "       Non-methane volatile organic compounds (NMVOC) emissions  \\\n",
       "count                                       2.280000e+02          \n",
       "mean                                        3.114111e+06          \n",
       "std                                         2.808321e+06          \n",
       "min                                         9.649988e+05          \n",
       "25%                                         1.214381e+06          \n",
       "50%                                         1.948796e+06          \n",
       "75%                                         3.565418e+06          \n",
       "max                                         1.048000e+07          \n",
       "\n",
       "       Black carbon (BC) emissions  Ammonia (NH₃) emissions  Unnamed: 10  \n",
       "count                   228.000000             2.280000e+02        228.0  \n",
       "mean                 286716.972741             2.343952e+06          0.0  \n",
       "std                  189435.688014             2.803421e+06          0.0  \n",
       "min                  122179.055000             4.793729e+05          0.0  \n",
       "25%                  153853.565000             6.637391e+05          0.0  \n",
       "50%                  226779.900000             8.765171e+05          0.0  \n",
       "75%                  302536.150000             2.426634e+06          0.0  \n",
       "max                  842624.800000             1.038562e+07          0.0  "
      ]
     },
     "execution_count": 90,
     "metadata": {},
     "output_type": "execute_result"
    }
   ],
   "source": [
    "count"
   ]
  },
  {
   "cell_type": "code",
   "execution_count": null,
   "id": "ae1cafcb-a80c-4485-9afe-78c01b242643",
   "metadata": {},
   "outputs": [],
   "source": []
  }
 ],
 "metadata": {
  "kernelspec": {
   "display_name": "Python 3 (ipykernel)",
   "language": "python",
   "name": "python3"
  },
  "language_info": {
   "codemirror_mode": {
    "name": "ipython",
    "version": 3
   },
   "file_extension": ".py",
   "mimetype": "text/x-python",
   "name": "python",
   "nbconvert_exporter": "python",
   "pygments_lexer": "ipython3",
   "version": "3.12.3"
  }
 },
 "nbformat": 4,
 "nbformat_minor": 5
}
