{
 "cells": [
  {
   "cell_type": "markdown",
   "id": "32168d7a-9e19-4cde-a569-d259e3b4258a",
   "metadata": {},
   "source": [
    "### 1.Counts the number of non-zero values in the array"
   ]
  },
  {
   "cell_type": "code",
   "execution_count": 13,
   "id": "fc6f6197-435a-4399-be1e-63423faad879",
   "metadata": {},
   "outputs": [
    {
     "name": "stdout",
     "output_type": "stream",
     "text": [
      "Number of non-zero elements: 4\n"
     ]
    }
   ],
   "source": [
    "\n",
    "\n",
    "import numpy as np\n",
    "\n",
    "array = np.array([0, 1, 2, 0, 4, 0, 6])\n",
    "\n",
    "non_zero_count = np.count_nonzero(array)\n",
    "\n",
    "print(f\"Number of non-zero elements: {non_zero_count}\")\n"
   ]
  },
  {
   "cell_type": "markdown",
   "id": "6079d702-6ce3-4051-9d2b-87c1641071d0",
   "metadata": {},
   "source": [
    "### 2.How to create an empty and a full NumPy array"
   ]
  },
  {
   "cell_type": "code",
   "execution_count": 14,
   "id": "36f29e2b-c88e-4117-9163-519acc2c0ca7",
   "metadata": {},
   "outputs": [
    {
     "name": "stdout",
     "output_type": "stream",
     "text": [
      "Empty Array:\n",
      "[[24. 18.  5.]\n",
      " [20. 15.  4.]\n",
      " [ 5.  4.  1.]]\n"
     ]
    }
   ],
   "source": [
    "\n",
    "import numpy as np\n",
    "\n",
    "# Create an empty array of shape (3, 3)\n",
    "empty_array = np.empty((3, 3))\n",
    "\n",
    "print(\"Empty Array:\")\n",
    "print(empty_array)\n"
   ]
  },
  {
   "cell_type": "markdown",
   "id": "6422278f-261d-43b2-be25-c2b2f9b118ef",
   "metadata": {},
   "source": [
    "### 3.Find the number of rows and columns of a given matrix using NumPy"
   ]
  },
  {
   "cell_type": "code",
   "execution_count": 8,
   "id": "621f68a8-a1cb-4cfb-8ed0-f35d320cf5c1",
   "metadata": {},
   "outputs": [
    {
     "name": "stdout",
     "output_type": "stream",
     "text": [
      "Number of rows: 3\n",
      "Number of columns: 3\n"
     ]
    }
   ],
   "source": [
    "\n",
    "import numpy as np\n",
    "\n",
    "matrix = np.array([\n",
    "    [1, 2, 3],\n",
    "    [4, 5, 6],\n",
    "    [7, 8, 9]\n",
    "])\n",
    "\n",
    "rows, columns = matrix.shape\n",
    "\n",
    "print(f\"Number of rows: {rows}\")\n",
    "print(f\"Number of columns: {columns}\")\n"
   ]
  },
  {
   "cell_type": "markdown",
   "id": "46b15e63-4624-4804-b2a2-2971d9910799",
   "metadata": {},
   "source": [
    "### 4.Find the sum of values in a matrix"
   ]
  },
  {
   "cell_type": "code",
   "execution_count": 9,
   "id": "f5ce86c5-342a-4dc6-937e-e7ed366593c0",
   "metadata": {},
   "outputs": [
    {
     "name": "stdout",
     "output_type": "stream",
     "text": [
      "The sum of all values in the matrix is: 45\n"
     ]
    }
   ],
   "source": [
    "#Find the sum of values in a matrix\n",
    "\n",
    "import numpy as np\n",
    "\n",
    "\n",
    "matrix = np.array([\n",
    "    [1, 2, 3],\n",
    "    [4, 5, 6],\n",
    "    [7, 8, 9]\n",
    "])\n",
    "\n",
    "total_sum = np.sum(matrix)\n",
    "\n",
    "print(f\"The sum of all values in the matrix is: {total_sum}\")\n"
   ]
  },
  {
   "cell_type": "markdown",
   "id": "8667682b-8cf6-49ec-8e89-3f582691d9b2",
   "metadata": {},
   "source": [
    "### 5.Calculate the sum of the diagonal elements of a NumPy array 3 * 3 and 4*4"
   ]
  },
  {
   "cell_type": "code",
   "execution_count": 2,
   "id": "29caeed7-8b96-476a-a7a1-6a9d20fdf42a",
   "metadata": {},
   "outputs": [
    {
     "name": "stdout",
     "output_type": "stream",
     "text": [
      "The sum of the diagonal elements of the 3x3 matrix is: 15\n"
     ]
    }
   ],
   "source": [
    "#Calculate the sum of the diagonal elements of a NumPy array 3*3 and 4*4\n",
    "\n",
    "import numpy as np\n",
    "\n",
    "matrix_3x3 = np.array([\n",
    "    [1, 2, 3],\n",
    "    [4, 5, 6],\n",
    "    [7, 8, 9]\n",
    "])\n",
    "\n",
    "diagonal_3x3 = np.diagonal(matrix_3x3)\n",
    "\n",
    "# Calculate the sum of the diagonal elements\n",
    "sum_diagonal_3x3 = np.sum(diagonal_3x3)\n",
    "\n",
    "print(f\"The sum of the diagonal elements of the 3x3 matrix is: {sum_diagonal_3x3}\")\n"
   ]
  },
  {
   "cell_type": "code",
   "execution_count": 11,
   "id": "a661d5cb-faca-4ab2-9c9c-e6340fe604c9",
   "metadata": {},
   "outputs": [
    {
     "name": "stdout",
     "output_type": "stream",
     "text": [
      "The sum of the diagonal elements of the 4x4 matrix is: 340\n"
     ]
    }
   ],
   "source": [
    "import numpy as np\n",
    "\n",
    "matrix_4x4 = np.array([\n",
    "    [10, 20, 30, 40],\n",
    "    [50, 60, 70, 80],\n",
    "    [90, 100, 110, 120],\n",
    "    [130, 140, 150, 160]\n",
    "])\n",
    "\n",
    "diagonal_4x4 = np.diagonal(matrix_4x4)\n",
    "\n",
    "sum_diagonal_4x4 = np.sum(diagonal_4x4)\n",
    "\n",
    "print(f\"The sum of the diagonal elements of the 4x4 matrix is: {sum_diagonal_4x4}\")\n"
   ]
  },
  {
   "cell_type": "markdown",
   "id": "f4305449-ca07-4260-92c5-bb3e09812062",
   "metadata": {},
   "source": [
    "### 6.How to inverse a matrix using NumPy"
   ]
  },
  {
   "cell_type": "code",
   "execution_count": 12,
   "id": "2dfd17be-7a44-46ed-a0d8-edd53c2aaae6",
   "metadata": {},
   "outputs": [
    {
     "name": "stdout",
     "output_type": "stream",
     "text": [
      "Original Matrix:\n",
      "[[1 2 3]\n",
      " [0 1 4]\n",
      " [5 6 0]]\n",
      "Inverse Matrix:\n",
      "[[-24.  18.   5.]\n",
      " [ 20. -15.  -4.]\n",
      " [ -5.   4.   1.]]\n"
     ]
    }
   ],
   "source": [
    "import numpy as np\n",
    "\n",
    "matrix_3x3 = np.array([\n",
    "    [1, 2, 3],\n",
    "    [0, 1, 4],\n",
    "    [5, 6, 0]\n",
    "])\n",
    "\n",
    "\n",
    "inverse_matrix_3x3 = np.linalg.inv(matrix_3x3)\n",
    "\n",
    "print(\"Original Matrix:\")\n",
    "print(matrix_3x3)\n",
    "\n",
    "print(\"Inverse Matrix:\")\n",
    "print(inverse_matrix_3x3)\n"
   ]
  },
  {
   "cell_type": "markdown",
   "id": "e15b3012-b877-4b07-92ee-4c624f1a9dd9",
   "metadata": {},
   "source": [
    "### 7.Matrix Multiplication in NumPy"
   ]
  },
  {
   "cell_type": "code",
   "execution_count": 15,
   "id": "f5c48420-3ce2-46df-929b-3ccb8bb90b90",
   "metadata": {},
   "outputs": [
    {
     "name": "stdout",
     "output_type": "stream",
     "text": [
      "Result using np.dot:\n",
      "[[19 22]\n",
      " [43 50]]\n"
     ]
    }
   ],
   "source": [
    "import numpy as np\n",
    "\n",
    "# Define two matrices\n",
    "A = np.array([\n",
    "    [1, 2],\n",
    "    [3, 4]\n",
    "])\n",
    "\n",
    "B = np.array([\n",
    "    [5, 6],\n",
    "    [7, 8]\n",
    "])\n",
    "\n",
    "# Perform matrix multiplication\n",
    "result_dot = np.dot(A, B)\n",
    "\n",
    "print(\"Result using np.dot:\")\n",
    "print(result_dot)\n"
   ]
  },
  {
   "cell_type": "markdown",
   "id": "45e9ec08-0d42-46bf-9f80-f3ac148bda39",
   "metadata": {},
   "source": [
    "### 8.Get the maximum and minimum value from given matrix"
   ]
  },
  {
   "cell_type": "code",
   "execution_count": 16,
   "id": "f16712fe-1e4c-4386-ba4a-5391f1d75d9b",
   "metadata": {},
   "outputs": [
    {
     "name": "stdout",
     "output_type": "stream",
     "text": [
      "The maximum value in the matrix is: 9\n",
      "The minimum value in the matrix is: 1\n"
     ]
    }
   ],
   "source": [
    "import numpy as np\n",
    "\n",
    "matrix = np.array([\n",
    "    [1, 2, 3],\n",
    "    [4, 5, 6],\n",
    "    [7, 8, 9]\n",
    "])\n",
    "\n",
    "# Find the maximum value in the matrix\n",
    "max_value = np.max(matrix)\n",
    "\n",
    "# Find the minimum value in the matrix\n",
    "min_value = np.min(matrix)\n",
    "\n",
    "print(f\"The maximum value in the matrix is: {max_value}\")\n",
    "print(f\"The minimum value in the matrix is: {min_value}\")\n"
   ]
  },
  {
   "cell_type": "markdown",
   "id": "e4bcbf21-03d3-4c34-82ff-06512848da42",
   "metadata": {},
   "source": [
    "### 9.Adding and Subtracting Matrices in Python."
   ]
  },
  {
   "cell_type": "code",
   "execution_count": 17,
   "id": "95f2429b-7661-4560-8c84-b53d8d303c4b",
   "metadata": {},
   "outputs": [
    {
     "name": "stdout",
     "output_type": "stream",
     "text": [
      "Sum of matrices:\n",
      "[[ 6  8]\n",
      " [10 12]]\n"
     ]
    }
   ],
   "source": [
    "#Adding Matrices\n",
    "\n",
    "import numpy as np\n",
    "\n",
    "# Define two matrices\n",
    "A = np.array([\n",
    "    [1, 2],\n",
    "    [3, 4]\n",
    "])\n",
    "\n",
    "B = np.array([\n",
    "    [5, 6],\n",
    "    [7, 8]\n",
    "])\n",
    "\n",
    "# Add the matrices\n",
    "sum_matrix = A + B\n",
    "\n",
    "print(\"Sum of matrices:\")\n",
    "print(sum_matrix)\n"
   ]
  },
  {
   "cell_type": "code",
   "execution_count": 18,
   "id": "0c2494e3-04ca-4d58-8d0d-c486483fb263",
   "metadata": {},
   "outputs": [
    {
     "name": "stdout",
     "output_type": "stream",
     "text": [
      "Difference of matrices:\n",
      "[[-4 -4]\n",
      " [-4 -4]]\n"
     ]
    }
   ],
   "source": [
    "#Subtracting Matrices\n",
    "\n",
    "import numpy as np\n",
    "\n",
    "# Define two matrices\n",
    "A = np.array([\n",
    "    [1, 2],\n",
    "    [3, 4]\n",
    "])\n",
    "\n",
    "B = np.array([\n",
    "    [5, 6],\n",
    "    [7, 8]\n",
    "])\n",
    "\n",
    "# Subtract the matrices\n",
    "difference_matrix = A - B\n",
    "\n",
    "print(\"Difference of matrices:\")\n",
    "print(difference_matrix)\n"
   ]
  },
  {
   "cell_type": "markdown",
   "id": "ec26ba01-0afc-4230-ab0a-cfcd09f3891d",
   "metadata": {},
   "source": [
    "### 10.How to count the frequency of unique values in NumPy array"
   ]
  },
  {
   "cell_type": "code",
   "execution_count": 19,
   "id": "127d394d-30e9-4200-821c-84a577e142f1",
   "metadata": {},
   "outputs": [
    {
     "name": "stdout",
     "output_type": "stream",
     "text": [
      "Frequency of unique values:\n",
      "1: 3\n",
      "2: 4\n",
      "3: 2\n",
      "4: 1\n"
     ]
    }
   ],
   "source": [
    "import numpy as np\n",
    "\n",
    "# Define a NumPy array\n",
    "array = np.array([1, 2, 3, 1, 2, 1, 3, 2, 2, 4])\n",
    "\n",
    "# Get the unique elements and their counts\n",
    "unique_elements, counts = np.unique(array, return_counts=True)\n",
    "\n",
    "# Create a dictionary to store the frequencies\n",
    "frequency_dict = dict(zip(unique_elements, counts))\n",
    "\n",
    "# Print the frequencies\n",
    "print(\"Frequency of unique values:\")\n",
    "for value, frequency in frequency_dict.items():\n",
    "    print(f\"{value}: {frequency}\")\n"
   ]
  },
  {
   "cell_type": "code",
   "execution_count": null,
   "id": "d8886fb3-3eb8-428c-9a8b-15427a5e5b4f",
   "metadata": {},
   "outputs": [],
   "source": []
  }
 ],
 "metadata": {
  "kernelspec": {
   "display_name": "Python 3 (ipykernel)",
   "language": "python",
   "name": "python3"
  },
  "language_info": {
   "codemirror_mode": {
    "name": "ipython",
    "version": 3
   },
   "file_extension": ".py",
   "mimetype": "text/x-python",
   "name": "python",
   "nbconvert_exporter": "python",
   "pygments_lexer": "ipython3",
   "version": "3.12.3"
  }
 },
 "nbformat": 4,
 "nbformat_minor": 5
}
