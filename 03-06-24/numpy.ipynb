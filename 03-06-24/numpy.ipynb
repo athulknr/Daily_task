{
 "cells": [
  {
   "cell_type": "markdown",
   "id": "3abadc31-0105-443d-82a2-21f3d7c2c572",
   "metadata": {},
   "source": [
    "## N-dimentional"
   ]
  },
  {
   "cell_type": "code",
   "execution_count": 2,
   "id": "8bc6e6e6-f44a-4f5c-9578-ec2aa41c5904",
   "metadata": {},
   "outputs": [],
   "source": [
    "import numpy as np"
   ]
  },
  {
   "cell_type": "code",
   "execution_count": 3,
   "id": "19118d91-1088-43d5-9581-d2b9990febd5",
   "metadata": {},
   "outputs": [
    {
     "name": "stdout",
     "output_type": "stream",
     "text": [
      "1D Array : [1 2 3 4 5]\n"
     ]
    }
   ],
   "source": [
    "#create an array with 1-D\n",
    "array_1D=np.array([1,2,3,4,5])\n",
    "print(\"1D Array :\",array_1D)"
   ]
  },
  {
   "cell_type": "code",
   "execution_count": 4,
   "id": "42a0e42a-85d5-4030-8bae-d7268664245d",
   "metadata": {},
   "outputs": [
    {
     "name": "stdout",
     "output_type": "stream",
     "text": [
      "[[1 2 3 4]\n",
      " [6 7 8 9]]\n"
     ]
    }
   ],
   "source": [
    "#create a 2D array\n",
    "array_2D=np.array([[1,2,3,4],[6,7,8,9]])\n",
    "print(array_2D)"
   ]
  },
  {
   "cell_type": "code",
   "execution_count": 5,
   "id": "da922579-2c5a-4b5e-937a-62417ac70c0f",
   "metadata": {},
   "outputs": [
    {
     "name": "stdout",
     "output_type": "stream",
     "text": [
      "[[1 2 3 4]\n",
      " [6 7 8 9]\n",
      " [2 4 8 3]]\n"
     ]
    }
   ],
   "source": [
    "#create a 3D array\n",
    "array_3D=np.array([[1,2,3,4],[6,7,8,9],[2,4,8,3]])\n",
    "print(array_3D)"
   ]
  },
  {
   "cell_type": "code",
   "execution_count": 6,
   "id": "66269501-38f0-4e4c-8658-bf23524d55dd",
   "metadata": {},
   "outputs": [
    {
     "name": "stdout",
     "output_type": "stream",
     "text": [
      "Array with ones : [[1. 1. 1. 1.]\n",
      " [1. 1. 1. 1.]]\n"
     ]
    }
   ],
   "source": [
    "#create an array with ones\n",
    "array_ones = np.ones((2,4))\n",
    "print(\"Array with ones :\",array_ones)"
   ]
  },
  {
   "cell_type": "code",
   "execution_count": 7,
   "id": "cf33a4ca-0303-45a3-acc5-f8743f4f2463",
   "metadata": {},
   "outputs": [
    {
     "name": "stdout",
     "output_type": "stream",
     "text": [
      "Array with zeros : [[0. 0. 0.]\n",
      " [0. 0. 0.]\n",
      " [0. 0. 0.]]\n"
     ]
    }
   ],
   "source": [
    "#create an array with zeros\n",
    "array_zeros = np.zeros((3,3))\n",
    "print(\"Array with zeros :\",array_zeros)"
   ]
  },
  {
   "cell_type": "code",
   "execution_count": 8,
   "id": "c310d113-ba91-40a1-b479-32830a0829d4",
   "metadata": {},
   "outputs": [
    {
     "name": "stdout",
     "output_type": "stream",
     "text": [
      "Array with range : [0 1 2 3 4 5 6 7 8 9]\n"
     ]
    }
   ],
   "source": [
    "#create an array with a particular range \n",
    "array_range = np.arange(10)\n",
    "print(\"Array with range :\",array_range)"
   ]
  },
  {
   "cell_type": "markdown",
   "id": "effecf39-1e2b-4640-a592-9383311af497",
   "metadata": {},
   "source": [
    "### access array"
   ]
  },
  {
   "cell_type": "code",
   "execution_count": 9,
   "id": "e8c447da-c6c3-4055-95db-e0f1c27a8ea4",
   "metadata": {},
   "outputs": [
    {
     "name": "stdout",
     "output_type": "stream",
     "text": [
      "element at the index of [1,2] : 6\n"
     ]
    }
   ],
   "source": [
    "import numpy as np\n",
    "#create array\n",
    "array_2D = np.array([[1,2,3],[4,5,6]])\n",
    "#access a single element\n",
    "element = array_2D[1,2]\n",
    "print(\"element at the index of [1,2] :\",element)"
   ]
  },
  {
   "cell_type": "code",
   "execution_count": 10,
   "id": "dd002245-2b24-4776-858c-0d505652a9fc",
   "metadata": {},
   "outputs": [
    {
     "name": "stdout",
     "output_type": "stream",
     "text": [
      "first row : [[1 2 3]]\n"
     ]
    }
   ],
   "source": [
    "#access by row\n",
    "row =array_2D[0:1]\n",
    "print(\"first row :\",row)"
   ]
  },
  {
   "cell_type": "code",
   "execution_count": 11,
   "id": "8f37bdf4-be00-49cd-ba10-8438380065d4",
   "metadata": {},
   "outputs": [
    {
     "name": "stdout",
     "output_type": "stream",
     "text": [
      "second row : [[4 5 6]]\n"
     ]
    }
   ],
   "source": [
    "#access by row\n",
    "row =array_2D[1:]\n",
    "print(\"second row :\",row)"
   ]
  },
  {
   "cell_type": "code",
   "execution_count": 12,
   "id": "6ec2c8a5-c8ac-4d4b-9907-a7a00bc3098f",
   "metadata": {},
   "outputs": [
    {
     "name": "stdout",
     "output_type": "stream",
     "text": [
      "second row : [2 5]\n"
     ]
    }
   ],
   "source": [
    "#access by 2nd column\n",
    "column =array_2D[:,1]\n",
    "print(\"second row :\",column)"
   ]
  },
  {
   "cell_type": "markdown",
   "id": "64b07164-24e8-45d6-bfe2-ae52f8d7283e",
   "metadata": {},
   "source": [
    "### Slicing"
   ]
  },
  {
   "cell_type": "code",
   "execution_count": 13,
   "id": "6ce68c4f-5461-4bbe-b42f-8226f5320af3",
   "metadata": {},
   "outputs": [
    {
     "name": "stdout",
     "output_type": "stream",
     "text": [
      "[[2 3]\n",
      " [5 6]]\n"
     ]
    }
   ],
   "source": [
    "#slicing\n",
    "#access the subarray with row of 0 and 1,column of 1 and 2\n",
    "slice_array=array_2D[0:2,1:3]\n",
    "#subarray\n",
    "print(slice_array)"
   ]
  },
  {
   "cell_type": "code",
   "execution_count": 14,
   "id": "bdd0d5f8-cd35-4f29-a85e-4116ec50866e",
   "metadata": {
    "jp-MarkdownHeadingCollapsed": true
   },
   "outputs": [
    {
     "name": "stdout",
     "output_type": "stream",
     "text": [
      "original array : [1 2 3 4 5 6]\n"
     ]
    }
   ],
   "source": [
    "import numpy as np\n",
    "\n",
    "#create an original array\n",
    "original_array = np.array([1,2,3,4,5,6])\n",
    "print(\"original array :\",original_array)"
   ]
  },
  {
   "cell_type": "code",
   "execution_count": 15,
   "id": "3b7034af-9714-4e9f-b377-4d31e8d08801",
   "metadata": {},
   "outputs": [
    {
     "name": "stdout",
     "output_type": "stream",
     "text": [
      "view of the original array is: [1 2 3 4 5 6]\n"
     ]
    }
   ],
   "source": [
    "#create a view for the array\n",
    "view_array=original_array.view()\n",
    "print(\"view of the original array is:\",view_array)"
   ]
  },
  {
   "cell_type": "code",
   "execution_count": 16,
   "id": "616e93db-8220-4fce-9992-b31bbc9ac839",
   "metadata": {},
   "outputs": [
    {
     "name": "stdout",
     "output_type": "stream",
     "text": [
      "modified view of the array: [ 1  2 30  4  5  6]\n"
     ]
    }
   ],
   "source": [
    "view_array[2]=30\n",
    "print(\"modified view of the array:\",view_array)"
   ]
  },
  {
   "cell_type": "code",
   "execution_count": 17,
   "id": "78765dc2-9ea6-470d-b5f1-20b5d54f0d6c",
   "metadata": {},
   "outputs": [
    {
     "name": "stdout",
     "output_type": "stream",
     "text": [
      "original array after modifying the view : [ 1  2 30  4  5  6]\n"
     ]
    }
   ],
   "source": [
    "print(\"original array after modifying the view :\",view_array)"
   ]
  },
  {
   "cell_type": "code",
   "execution_count": 18,
   "id": "a122a61d-0942-44f4-b85e-750a2d2d68ad",
   "metadata": {},
   "outputs": [
    {
     "name": "stdout",
     "output_type": "stream",
     "text": [
      "copy array: [ 1  2 30  4  5  6]\n"
     ]
    }
   ],
   "source": [
    "#create a copy of original array\n",
    "copy_array=original_array.copy()\n",
    "print(\"copy array:\",copy_array)"
   ]
  },
  {
   "cell_type": "code",
   "execution_count": 19,
   "id": "2b63aab3-1a6b-4ba0-af73-f65190fb1987",
   "metadata": {},
   "outputs": [
    {
     "name": "stdout",
     "output_type": "stream",
     "text": [
      "print original array after modifying the copy array: [10  2 30  4  5  6]\n"
     ]
    }
   ],
   "source": [
    "#modify elemeb=nt in copy array\n",
    "copy_array[0]=10\n",
    "print(\"print original array after modifying the copy array:\",copy_array)"
   ]
  },
  {
   "cell_type": "code",
   "execution_count": null,
   "id": "100121de-e8c6-466b-bb35-a20169d30946",
   "metadata": {},
   "outputs": [],
   "source": []
  }
 ],
 "metadata": {
  "kernelspec": {
   "display_name": "Python 3 (ipykernel)",
   "language": "python",
   "name": "python3"
  },
  "language_info": {
   "codemirror_mode": {
    "name": "ipython",
    "version": 3
   },
   "file_extension": ".py",
   "mimetype": "text/x-python",
   "name": "python",
   "nbconvert_exporter": "python",
   "pygments_lexer": "ipython3",
   "version": "3.12.3"
  }
 },
 "nbformat": 4,
 "nbformat_minor": 5
}
