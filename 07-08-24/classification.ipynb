{
  "nbformat": 4,
  "nbformat_minor": 0,
  "metadata": {
    "colab": {
      "provenance": []
    },
    "kernelspec": {
      "name": "python3",
      "display_name": "Python 3"
    },
    "language_info": {
      "name": "python"
    }
  },
  "cells": [
    {
      "cell_type": "markdown",
      "source": [
        "### Classification of Customer support system\n",
        "\n"
      ],
      "metadata": {
        "id": "xNHuTQsUBTrF"
      }
    },
    {
      "cell_type": "code",
      "execution_count": 1,
      "metadata": {
        "colab": {
          "base_uri": "https://localhost:8080/"
        },
        "id": "FuCXpGPRBJTK",
        "outputId": "720f7f2f-8de4-4778-9a30-60e899328430"
      },
      "outputs": [
        {
          "output_type": "stream",
          "name": "stdout",
          "text": [
            "Request: my account is blocked\n",
            "Category: Technical Support\n",
            "\n",
            "Request: i need my last billing details\n",
            "Category: Billing Issue\n",
            "\n",
            "Request: i need to know the timing of my order\n",
            "Category: Other support\n",
            "\n"
          ]
        }
      ],
      "source": [
        "from ast import keyword\n",
        "#rule based text classification\n",
        "\n",
        "def classify_request(text):\n",
        "  text = text.lower()\n",
        "\n",
        "  if any(keyword in text for keyword in [\"billing\", \"invoice\", \"charge\"]):\n",
        "    return \"Billing Issue\"\n",
        "  elif any(keyword in text for keyword in [\"password\", \"access\", \"log\",\"account\"]):\n",
        "    return \"Technical Support\"\n",
        "  elif any(keyword in text for keyword in [\"hours\", \"time\", \"general\"]):\n",
        "    return \"general support\"\n",
        "  else:\n",
        "    return \"Other support\"\n",
        "\n",
        "#test sample\n",
        "requestes=[\n",
        "    \"my account is blocked\",\n",
        "    \"i need my last billing details\",\n",
        "    \"i need to know the timing of my order\"\n",
        "\n",
        "]\n",
        "\n",
        "for request in requestes:\n",
        "  category = classify_request(request)\n",
        "  print(f\"Request: {request}\\nCategory: {category}\\n\")"
      ]
    }
  ]
}