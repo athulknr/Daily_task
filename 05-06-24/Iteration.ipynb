{
 "cells": [
  {
   "cell_type": "code",
   "execution_count": 1,
   "id": "fd6cf4fb-b563-441a-ab92-f646ff5dc667",
   "metadata": {},
   "outputs": [
    {
     "name": "stdout",
     "output_type": "stream",
     "text": [
      "Array_id: [1 2 3 4 5 6]\n",
      "1\n",
      "2\n",
      "3\n",
      "4\n",
      "5\n",
      "6\n"
     ]
    }
   ],
   "source": [
    "#iteration\n",
    "import numpy as np\n",
    "#for-in loop\n",
    "array_id = np.array([1,2,3,4,5,6])\n",
    "#iterate the elements in this array\n",
    "print(\"Array_id:\",array_id)\n",
    "\n",
    "for elements in array_id:\n",
    "    print(elements)"
   ]
  },
  {
   "cell_type": "code",
   "execution_count": 16,
   "id": "0cd07aa5-c4e6-414e-b936-e19209dd4017",
   "metadata": {},
   "outputs": [
    {
     "name": "stdout",
     "output_type": "stream",
     "text": [
      "[[1 2 3]\n",
      " [4 5 6]\n",
      " [7 8 9]]\n",
      "[1 2 3]\n",
      "[4 5 6]\n",
      "[7 8 9]\n"
     ]
    }
   ],
   "source": [
    "array_2D=np.array([[1,2,3,],[4,5,6],[7,8,9]])\n",
    "print(array_2D)\n",
    "#iterate 2D array\n",
    "for elements in array_2D:\n",
    "    print(elements)"
   ]
  },
  {
   "cell_type": "code",
   "execution_count": 19,
   "id": "7ce529a9-60f4-4e38-a5f3-4d6bee54fe00",
   "metadata": {},
   "outputs": [
    {
     "name": "stdout",
     "output_type": "stream",
     "text": [
      "[[1 2 3]\n",
      " [4 5 6]\n",
      " [7 8 9]]\n",
      "[1 2 3]\n",
      "1\n",
      "2\n",
      "3\n",
      "[4 5 6]\n",
      "4\n",
      "5\n",
      "6\n",
      "[7 8 9]\n",
      "7\n",
      "8\n",
      "9\n"
     ]
    }
   ],
   "source": [
    "array_2D=np.array([[1,2,3,],[4,5,6],[7,8,9]])\n",
    "print(array_2D)\n",
    "#iterate 2D_array\n",
    "for rows in array_2D:\n",
    "    print(rows)\n",
    "    for elements in rows:\n",
    "        print(elements)"
   ]
  },
  {
   "cell_type": "code",
   "execution_count": 14,
   "id": "4c8a87ac-98b2-433d-acde-2eaefea1d8e0",
   "metadata": {},
   "outputs": [
    {
     "name": "stdout",
     "output_type": "stream",
     "text": [
      "[[1 2 3]\n",
      " [4 5 6]\n",
      " [7 8 9]]\n",
      "1\n",
      "2\n",
      "3\n",
      "4\n",
      "5\n",
      "6\n",
      "7\n",
      "8\n",
      "9\n"
     ]
    }
   ],
   "source": [
    "import numpy as np\n",
    "\n",
    "array_2D = np.array([[1, 2, 3], [4, 5, 6], [7, 8, 9]])\n",
    "print(array_2D)\n",
    "\n",
    "for elements in np.nditer(array_2D):\n",
    "    print(elements)\n"
   ]
  },
  {
   "cell_type": "code",
   "execution_count": 21,
   "id": "bb0e4067-334e-4f2f-8b8e-f90f8bc2fabe",
   "metadata": {},
   "outputs": [
    {
     "name": "stdout",
     "output_type": "stream",
     "text": [
      "index: (0, 0), element: 1\n",
      "index: (0, 1), element: 2\n",
      "index: (0, 2), element: 3\n",
      "index: (1, 0), element: 4\n",
      "index: (1, 1), element: 5\n",
      "index: (1, 2), element: 6\n",
      "index: (2, 0), element: 7\n",
      "index: (2, 1), element: 8\n",
      "index: (2, 2), element: 9\n"
     ]
    }
   ],
   "source": [
    "import numpy as np\n",
    "\n",
    "array_2D = np.array([[1, 2, 3], [4, 5, 6], [7, 8, 9]])\n",
    "\n",
    "for index, element in np.ndenumerate(array_2D):\n",
    "    print(f\"index: {index}, element: {element}\")\n"
   ]
  },
  {
   "cell_type": "code",
   "execution_count": 25,
   "id": "24fdcbdd-48e7-4363-8751-8c1a7b7adff9",
   "metadata": {},
   "outputs": [
    {
     "name": "stdout",
     "output_type": "stream",
     "text": [
      "concat_array : [1 2 3 4 5 6]\n"
     ]
    }
   ],
   "source": [
    "import numpy as np\n",
    "\n",
    "array1 = np.array([1, 2, 3])\n",
    "array2 = np.array([4, 5, 6])\n",
    "\n",
    "concat_array = np.concatenate((array1, array2))\n",
    "print(\"concat_array :\",concat_array)\n"
   ]
  },
  {
   "cell_type": "code",
   "execution_count": 30,
   "id": "ecd2e9bf-1388-4b12-9b80-b7c612a304ef",
   "metadata": {},
   "outputs": [
    {
     "name": "stdout",
     "output_type": "stream",
     "text": [
      "Vertical stacked array is:\n",
      " [[ 1  2  3]\n",
      " [ 4  5  6]\n",
      " [ 7  8  9]\n",
      " [10 11 12]]\n",
      "Horizontal stacked array is:\n",
      " [[ 1  2  3  7  8  9]\n",
      " [ 4  5  6 10 11 12]]\n"
     ]
    }
   ],
   "source": [
    "import numpy as np\n",
    "\n",
    "# Create 2D arrays\n",
    "array2d_1 = np.array([[1, 2, 3], [4, 5, 6]])\n",
    "array2d_2 = np.array([[7, 8, 9], [10, 11, 12]])\n",
    "\n",
    "# Vertically stack the arrays\n",
    "vstack_array = np.vstack((array2d_1, array2d_2))\n",
    "print(\"Vertical stacked array is:\\n\", vstack_array)\n",
    "\n",
    "# Horizontally stack the arrays\n",
    "hstack_array = np.hstack((array2d_1, array2d_2))\n",
    "print(\"Horizontal stacked array is:\\n\", hstack_array)\n"
   ]
  },
  {
   "cell_type": "code",
   "execution_count": 29,
   "id": "517e8238-93c6-470d-af6a-7c46bfa642d8",
   "metadata": {},
   "outputs": [
    {
     "name": "stdout",
     "output_type": "stream",
     "text": [
      "original array: [1 2 3 4 5 6 7 8 9]\n",
      "split array: [array([1, 2, 3]), array([4, 5, 6]), array([7, 8, 9])]\n",
      "vsplited array:  [array([[1, 2, 3],\n",
      "       [4, 5, 6]]), array([[ 7,  8,  9],\n",
      "       [10, 11, 12]])]\n"
     ]
    }
   ],
   "source": [
    "import numpy as np\n",
    "#split will work in numpy\n",
    "\n",
    "array = np.array([1,2,3,4,5,6,7,8,9])\n",
    "\n",
    "split_array =np.split(array, 3)\n",
    "print(\"original array:\",array)\n",
    "print(\"split array:\",split_array)\n",
    "\n",
    "array_2d = np.array([[1,2,3],[4,5,6],[7,8,9],[10,11,12]])\n",
    "\n",
    "vsplit_array =np.vsplit(array_2d,2)\n",
    "\n",
    "print(\"vsplited array: \",vsplit_array)"
   ]
  },
  {
   "cell_type": "code",
   "execution_count": 34,
   "id": "51716ab2-0974-412c-9547-5fca8891118f",
   "metadata": {},
   "outputs": [
    {
     "name": "stdout",
     "output_type": "stream",
     "text": [
      "[10 20 12 15 14 17]\n"
     ]
    }
   ],
   "source": [
    "#check \n",
    "import numpy as np\n",
    "array = np.array([10,20,12,15,14,17])\n",
    "\n",
    "#np.where(array ==20)\n",
    "#where( ): use to check the particular condition for fileter and condition\n",
    "\n",
    "#element greater than 15 for the above array\n",
    "\n",
    "elements = np.where(array > 15,0,array)\n",
    "print(array)\n",
    "#print(array[elements])"
   ]
  },
  {
   "cell_type": "code",
   "execution_count": null,
   "id": "5d7baa5e-acad-4270-bbcf-e6b15aec6c03",
   "metadata": {},
   "outputs": [],
   "source": []
  }
 ],
 "metadata": {
  "kernelspec": {
   "display_name": "Python 3 (ipykernel)",
   "language": "python",
   "name": "python3"
  },
  "language_info": {
   "codemirror_mode": {
    "name": "ipython",
    "version": 3
   },
   "file_extension": ".py",
   "mimetype": "text/x-python",
   "name": "python",
   "nbconvert_exporter": "python",
   "pygments_lexer": "ipython3",
   "version": "3.12.3"
  }
 },
 "nbformat": 4,
 "nbformat_minor": 5
}
