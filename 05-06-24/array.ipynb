{
 "cells": [
  {
   "cell_type": "code",
   "execution_count": 1,
   "id": "5028af80-b351-45aa-b978-29ca57ebfd88",
   "metadata": {},
   "outputs": [
    {
     "name": "stdout",
     "output_type": "stream",
     "text": [
      "array1D : [1 2 3 4 5 6]\n",
      "shape of  array1D : (6,)\n"
     ]
    }
   ],
   "source": [
    "# converting iD into 2D\n",
    "# .reshape() is the methord which is used for reshape the arrays.\n",
    "\n",
    "import numpy as np\n",
    "\n",
    "#create a 1D array\n",
    "array_1D = np.array([1,2,3,4,5,6])\n",
    "print(\"array1D :\", array_1D)\n",
    "print(\"shape of  array1D :\", array_1D.shape)"
   ]
  },
  {
   "cell_type": "code",
   "execution_count": 2,
   "id": "4e48e451-d699-402b-8e63-c2a04fe294c9",
   "metadata": {},
   "outputs": [
    {
     "name": "stdout",
     "output_type": "stream",
     "text": [
      "2D array : [[1 2 3]\n",
      " [4 5 6]]\n",
      "shape of array_2D : (2, 3)\n"
     ]
    }
   ],
   "source": [
    "#reshape the 1D array to array\n",
    "array_2D = array_1D.reshape(2,3)\n",
    "print (\"2D array :\", array_2D)\n",
    "print(\"shape of array_2D :\", array_2D.shape)"
   ]
  },
  {
   "cell_type": "code",
   "execution_count": 3,
   "id": "78aaf651-4466-47db-a350-9eb35b844929",
   "metadata": {},
   "outputs": [
    {
     "name": "stdout",
     "output_type": "stream",
     "text": [
      "3D array : [[[1]\n",
      "  [2]\n",
      "  [3]]\n",
      "\n",
      " [[4]\n",
      "  [5]\n",
      "  [6]]]\n",
      "shape of array_3D : (2, 3, 1)\n"
     ]
    }
   ],
   "source": [
    "#reshape 1D array in to 3D array\n",
    "array_3D = array_1D.reshape(2,3,1)\n",
    "print(\"3D array :\", array_3D)\n",
    "print (\"shape of array_3D :\", array_3D.shape)"
   ]
  },
  {
   "cell_type": "code",
   "execution_count": 5,
   "id": "4a224725-6829-47a1-9b4d-a626887bb436",
   "metadata": {},
   "outputs": [
    {
     "name": "stdout",
     "output_type": "stream",
     "text": [
      "[[1 2 3]\n",
      " [4 5 6]\n",
      " [7 8 9]]\n",
      "1\n",
      "2\n",
      "3\n",
      "4\n",
      "5\n",
      "6\n",
      "7\n",
      "8\n",
      "9\n"
     ]
    }
   ],
   "source": [
    "import numpy as np\n",
    "\n",
    "array_2D = np.array([[1, 2, 3], [4, 5, 6], [7, 8, 9]])\n",
    "print(array_2D)\n",
    "\n",
    "for elements in np.nditer(array_2D):\n",
    "    print(elements)\n"
   ]
  },
  {
   "cell_type": "code",
   "execution_count": null,
   "id": "774f0e07-475a-4eef-b9f4-1458c8360fce",
   "metadata": {},
   "outputs": [],
   "source": []
  }
 ],
 "metadata": {
  "kernelspec": {
   "display_name": "Python 3 (ipykernel)",
   "language": "python",
   "name": "python3"
  },
  "language_info": {
   "codemirror_mode": {
    "name": "ipython",
    "version": 3
   },
   "file_extension": ".py",
   "mimetype": "text/x-python",
   "name": "python",
   "nbconvert_exporter": "python",
   "pygments_lexer": "ipython3",
   "version": "3.12.3"
  }
 },
 "nbformat": 4,
 "nbformat_minor": 5
}
