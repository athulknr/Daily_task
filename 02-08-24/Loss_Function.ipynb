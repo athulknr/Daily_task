{
  "nbformat": 4,
  "nbformat_minor": 0,
  "metadata": {
    "colab": {
      "provenance": []
    },
    "kernelspec": {
      "name": "python3",
      "display_name": "Python 3"
    },
    "language_info": {
      "name": "python"
    }
  },
  "cells": [
    {
      "cell_type": "code",
      "execution_count": 1,
      "metadata": {
        "id": "NvfhGHCGoUL2"
      },
      "outputs": [],
      "source": [
        "import tensorflow as tf\n",
        "\n",
        "def custom_loss(y_true, y_pred):\n",
        "    # Mean Squared Error\n",
        "    mse = tf.reduce_mean(tf.square(y_true - y_pred))\n",
        "\n",
        "    # Custom Penalty (e.g., a penalty for predictions that deviate more than a certain threshold from the true value)\n",
        "    threshold = 1.0\n",
        "    penalty = tf.reduce_mean(tf.maximum(0.0, tf.abs(y_true - y_pred) - threshold))\n",
        "\n",
        "    # Combine MSE and Penalty\n",
        "    return mse + penalty\n"
      ]
    },
    {
      "cell_type": "code",
      "source": [
        "from tensorflow.keras.models import Sequential\n",
        "from tensorflow.keras.layers import Dense\n",
        "\n",
        "# Create a simple model for demonstration\n",
        "model = Sequential([\n",
        "    Dense(10, activation='relu', input_shape=(5,)),\n",
        "    Dense(1)\n",
        "])\n",
        "\n",
        "# Compile the model with the custom loss function\n",
        "model.compile(optimizer='adam', loss=custom_loss)\n"
      ],
      "metadata": {
        "colab": {
          "base_uri": "https://localhost:8080/"
        },
        "id": "Yz0WngJdohKJ",
        "outputId": "990da139-55d8-4949-bc82-f2cf8a92fc7e"
      },
      "execution_count": 2,
      "outputs": [
        {
          "output_type": "stream",
          "name": "stderr",
          "text": [
            "/usr/local/lib/python3.10/dist-packages/keras/src/layers/core/dense.py:87: UserWarning: Do not pass an `input_shape`/`input_dim` argument to a layer. When using Sequential models, prefer using an `Input(shape)` object as the first layer in the model instead.\n",
            "  super().__init__(activity_regularizer=activity_regularizer, **kwargs)\n"
          ]
        }
      ]
    }
  ]
}